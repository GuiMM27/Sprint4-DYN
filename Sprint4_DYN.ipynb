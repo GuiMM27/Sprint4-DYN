{
  "nbformat": 4,
  "nbformat_minor": 0,
  "metadata": {
    "colab": {
      "provenance": [],
      "authorship_tag": "ABX9TyNadWmJqmnWXYqgmeTk4TUN",
      "include_colab_link": true
    },
    "kernelspec": {
      "name": "python3",
      "display_name": "Python 3"
    },
    "language_info": {
      "name": "python"
    }
  },
  "cells": [
    {
      "cell_type": "markdown",
      "metadata": {
        "id": "view-in-github",
        "colab_type": "text"
      },
      "source": [
        "<a href=\"https://colab.research.google.com/github/GuiMM27/Sprint4-DYN/blob/main/Sprint4_DYN.ipynb\" target=\"_parent\"><img src=\"https://colab.research.google.com/assets/colab-badge.svg\" alt=\"Open In Colab\"/></a>"
      ]
    },
    {
      "cell_type": "markdown",
      "source": [
        "SPRINT 4 - Programação Dinâmica para Otimização de Estoque de Insumos"
      ],
      "metadata": {
        "id": "0DBjebDXRdgI"
      }
    },
    {
      "cell_type": "markdown",
      "source": [
        "1. Setup e Definição dos Parâmetros do Modelo"
      ],
      "metadata": {
        "id": "t3u04AkGRpxF"
      }
    },
    {
      "cell_type": "code",
      "execution_count": 1,
      "metadata": {
        "id": "6oqPCbA5OhZn"
      },
      "outputs": [],
      "source": [
        "import numpy as np\n",
        "import sys\n",
        "# Aumenta o limite de recursão para evitar Runtime Error em testes maiores\n",
        "sys.setrecursionlimit(2000)\n",
        "\n",
        "# =================================================================\n",
        "# PARÂMETROS DO MODELO\n",
        "# =================================================================\n",
        "\n",
        "T = 7            # Horizonte de tempo (Dias de planejamento)\n",
        "M = 20           # Capacidade Máxima do Estoque (Limite superior para os estados)\n",
        "ESTOQUE_INICIAL_GLOBAL = 5 # Estoque no início do Dia 1 (t=0)\n",
        "\n",
        "# Custos\n",
        "K = 50           # Custo Fixo de Pedido (Setup cost)\n",
        "c = 10           # Custo Unitário de Compra\n",
        "h = 2            # Custo Unitário de Armazenamento por dia (Holding cost)\n",
        "p = 100          # Custo Unitário de Penalidade por Falta (Shortage cost)\n",
        "\n",
        "# Consumo Diário Simulado (Demanda C_t para t=0 a T-1)\n",
        "# Este é o dado que o modelo de PD usa para otimizar as decisões\n",
        "CONSUMO = [5, 8, 3, 10, 4, 7, 6]\n",
        "\n",
        "# ================================================================="
      ]
    },
    {
      "cell_type": "markdown",
      "source": [
        "2. Função de Transição e Custo (Função de Recorrência)"
      ],
      "metadata": {
        "id": "Vo-yZoFuRt8H"
      }
    },
    {
      "cell_type": "code",
      "source": [
        "def calcular_custo_e_transicao(estoque_inicial, quantidade_pedida, consumo_do_dia):\n",
        "    \"\"\"\n",
        "    Calcula o custo imediato incorrido no dia t e o estado do estoque para o dia t+1.\n",
        "\n",
        "    Args:\n",
        "        estoque_inicial (int): Estoque no início do dia S_t.\n",
        "        quantidade_pedida (int): Decisão D_t.\n",
        "        consumo_do_dia (int): Consumo C_t.\n",
        "\n",
        "    Returns:\n",
        "        tuple: (custo_total_diario, estoque_final_s_t_mais_1)\n",
        "    \"\"\"\n",
        "\n",
        "    # 1. Custo de Pedido\n",
        "    custo_pedido = c * quantidade_pedida\n",
        "    if quantidade_pedida > 0:\n",
        "        custo_pedido += K\n",
        "\n",
        "    estoque_disponivel = estoque_inicial + quantidade_pedida\n",
        "\n",
        "    # 2. Custo de Falta (Penalidade)\n",
        "    falta = max(0, consumo_do_dia - estoque_disponivel)\n",
        "    custo_falta = p * falta\n",
        "\n",
        "    # 3. Novo Estoque (Estado de Transição S_{t+1})\n",
        "    estoque_final = max(0, estoque_disponivel - consumo_do_dia)\n",
        "\n",
        "    # 4. Custo de Armazenamento/Estoque\n",
        "    custo_estoque = h * estoque_final\n",
        "\n",
        "    custo_total = custo_pedido + custo_falta + custo_estoque\n",
        "\n",
        "    return custo_total, estoque_final"
      ],
      "metadata": {
        "id": "p7Pa7w63QB6F"
      },
      "execution_count": 2,
      "outputs": []
    },
    {
      "cell_type": "markdown",
      "source": [
        "3. Versão 1: Recursiva com Memorização (Top-Down)"
      ],
      "metadata": {
        "id": "46ekNzC6Rv1u"
      }
    },
    {
      "cell_type": "code",
      "source": [
        "# Tabela de memorização (Memoization Table) para o custo\n",
        "MEMO_CUSTO = {}\n",
        "# Tabela de memorização para a política ótima (decisão)\n",
        "MEMO_POLITICA = {}\n",
        "\n",
        "def pd_recursiva_top_down(t, estoque_inicial):\n",
        "    \"\"\"\n",
        "    Implementa a Programação Dinâmica de forma recursiva (Top-Down).\n",
        "    Calcula o custo mínimo do dia t até o final do horizonte T.\n",
        "\n",
        "    Args:\n",
        "        t (int): Índice do dia (0 a T-1).\n",
        "        estoque_inicial (int): Estoque S_t no início do dia t.\n",
        "\n",
        "    Returns:\n",
        "        float: Custo mínimo acumulado a partir de t.\n",
        "    \"\"\"\n",
        "\n",
        "    # 1. Caso Base: Fim do horizonte\n",
        "    if t == T:\n",
        "        return 0.0 # Custo zero após o último dia\n",
        "\n",
        "    # 2. Caso de Memorização (Lookup)\n",
        "    if (t, estoque_inicial) in MEMO_CUSTO:\n",
        "        return MEMO_CUSTO[(t, estoque_inicial)]\n",
        "\n",
        "    consumo_do_dia = CONSUMO[t]\n",
        "    min_custo_acumulado = float('inf')\n",
        "    melhor_decisao = -1\n",
        "\n",
        "    # 3. Iterar sobre as Decisões (D_t)\n",
        "    # A quantidade pedida vai de 0 até o limite M-estoque_inicial\n",
        "    for D_t in range(M - estoque_inicial + 1):\n",
        "\n",
        "        # 3.1. Calcular o Custo Imediato e o Próximo Estado (S_{t+1})\n",
        "        custo_imediato, estoque_final = calcular_custo_e_transicao(\n",
        "            estoque_inicial, D_t, consumo_do_dia\n",
        "        )\n",
        "\n",
        "        # 3.2. Chamar Recursivamente o Custo Futuro\n",
        "        custo_recursivo = pd_recursiva_top_down(t + 1, estoque_final)\n",
        "\n",
        "        # 3.3. Custo Total para esta decisão\n",
        "        custo_total_atual = custo_imediato + custo_recursivo\n",
        "\n",
        "        # 4. Atualizar o Custo Mínimo e a Política\n",
        "        if custo_total_atual < min_custo_acumulado:\n",
        "            min_custo_acumulado = custo_total_atual\n",
        "            melhor_decisao = D_t\n",
        "\n",
        "    # 5. Salvar na Tabela de Memorização\n",
        "    MEMO_CUSTO[(t, estoque_inicial)] = min_custo_acumulado\n",
        "    MEMO_POLITICA[(t, estoque_inicial)] = melhor_decisao\n",
        "\n",
        "    return min_custo_acumulado\n",
        "\n",
        "# Inicializa as tabelas para a execução\n",
        "MEMO_CUSTO.clear()\n",
        "MEMO_POLITICA.clear()\n",
        "\n",
        "custo_recursivo_final = pd_recursiva_top_down(0, ESTOQUE_INICIAL_GLOBAL)\n",
        "\n",
        "print(f\"--- 1. Versão Recursiva com Memorização (Top-Down) ---\")\n",
        "print(f\"Custo Mínimo Total: R$ {custo_recursivo_final:.2f}\")"
      ],
      "metadata": {
        "colab": {
          "base_uri": "https://localhost:8080/"
        },
        "id": "JyrHc4QmQDY7",
        "outputId": "937c5f25-0c32-4f94-a6b0-42286a59d20e"
      },
      "execution_count": 3,
      "outputs": [
        {
          "output_type": "stream",
          "name": "stdout",
          "text": [
            "--- 1. Versão Recursiva com Memorização (Top-Down) ---\n",
            "Custo Mínimo Total: R$ 556.00\n"
          ]
        }
      ]
    },
    {
      "cell_type": "markdown",
      "source": [
        "4. Versão 2: Iterativa (Bottom-Up)"
      ],
      "metadata": {
        "id": "UiUJ7RhERyI-"
      }
    },
    {
      "cell_type": "code",
      "source": [
        "def pd_iterativa_bottom_up(estoque_inicial_global):\n",
        "    \"\"\"\n",
        "    Implementa a Programação Dinâmica de forma iterativa (Bottom-Up).\n",
        "    Preenche uma tabela de custos (DP_Table) do final (t=T) para o início (t=0).\n",
        "\n",
        "    Args:\n",
        "        estoque_inicial_global (int): Estoque S_0 no início do Dia 1.\n",
        "\n",
        "    Returns:\n",
        "        tuple: (custo_minimo_total, DP_Table, Politica_Table)\n",
        "    \"\"\"\n",
        "    # DP_Table[t][s]: Custo mínimo para o dia t (0 a T) com estoque inicial s\n",
        "    DP_Table = np.full((T + 1, M + 1), float('inf'))\n",
        "\n",
        "    # Politica_Table[t][s]: Melhor decisão D_t para o dia t com estoque s\n",
        "    Politica_Table = np.full((T, M + 1), -1, dtype=int)\n",
        "\n",
        "    # 1. Caso Base: Dia t = T (após o último dia)\n",
        "    DP_Table[T, :] = 0.0\n",
        "\n",
        "    # 2. Iterar de trás para frente (t = T-1 até 0)\n",
        "    for t in range(T - 1, -1, -1):\n",
        "        consumo_do_dia = CONSUMO[t]\n",
        "\n",
        "        # 3. Iterar sobre todos os Estados (Estoque Inicial S_t)\n",
        "        for estoque_inicial in range(M + 1):\n",
        "\n",
        "            min_custo_acumulado = float('inf')\n",
        "            melhor_decisao = -1\n",
        "\n",
        "            # 4. Iterar sobre todas as Decisões (Quantidade Pedida D_t)\n",
        "            for D_t in range(M - estoque_inicial + 1):\n",
        "\n",
        "                # 4.1. Calcular Custo Imediato e Próximo Estado\n",
        "                custo_imediato, estoque_final = calcular_custo_e_transicao(\n",
        "                    estoque_inicial, D_t, consumo_do_dia\n",
        "                )\n",
        "\n",
        "                # 4.2. Buscar Custo Futuro na DP_Table (já calculado na iteração t+1)\n",
        "                custo_futuro = DP_Table[t + 1, estoque_final]\n",
        "\n",
        "                custo_total_atual = custo_imediato + custo_futuro\n",
        "\n",
        "                # 5. Atualizar o Custo Mínimo\n",
        "                if custo_total_atual < min_custo_acumulado:\n",
        "                    min_custo_acumulado = custo_total_atual\n",
        "                    melhor_decisao = D_t\n",
        "\n",
        "            # 6. Salvar na DP_Table e Politica_Table\n",
        "            DP_Table[t, estoque_inicial] = min_custo_acumulado\n",
        "            Politica_Table[t, estoque_inicial] = melhor_decisao\n",
        "\n",
        "    # O resultado é o custo mínimo no dia 0 com o estoque inicial dado\n",
        "    custo_iterativo_final = DP_Table[0, estoque_inicial_global]\n",
        "\n",
        "    return custo_iterativo_final, DP_Table, Politica_Table\n",
        "\n",
        "\n",
        "# Execução da Versão Iterativa\n",
        "custo_iterativo_final, DP_Table, Politica_Table = pd_iterativa_bottom_up(ESTOQUE_INICIAL_GLOBAL)\n",
        "\n",
        "print(f\"\\n--- 2. Versão Iterativa (Bottom-Up) ---\")\n",
        "print(f\"Custo Mínimo Total: R$ {custo_iterativo_final:.2f}\")"
      ],
      "metadata": {
        "colab": {
          "base_uri": "https://localhost:8080/"
        },
        "id": "ymlZ_Oc-QE_G",
        "outputId": "2dc5b1cd-483a-42da-ff40-aa216b578728"
      },
      "execution_count": 4,
      "outputs": [
        {
          "output_type": "stream",
          "name": "stdout",
          "text": [
            "\n",
            "--- 2. Versão Iterativa (Bottom-Up) ---\n",
            "Custo Mínimo Total: R$ 556.00\n"
          ]
        }
      ]
    },
    {
      "cell_type": "markdown",
      "source": [
        "5. Garantia de Resultados e Análise da Política Ótima"
      ],
      "metadata": {
        "id": "o46bI5gQRz8z"
      }
    },
    {
      "cell_type": "code",
      "source": [
        "# =================================================================\n",
        "# GARANTIA DE RESULTADOS E ANÁLISE DA POLÍTICA ÓTIMA\n",
        "# =================================================================\n",
        "\n",
        "# 1. Garantir que ambas produziram os mesmos resultados\n",
        "print(\"\\n--- 3. Verificação de Equivalência ---\")\n",
        "if abs(custo_recursivo_final - custo_iterativo_final) < 1e-6:\n",
        "    print(f\"✅ Sucesso: Ambas as versões (R$ {custo_recursivo_final:.2f}) são equivalentes.\")\n",
        "else:\n",
        "    print(f\"❌ Aviso: Resultados divergentes (Rec: {custo_recursivo_final:.2f} | Iter: {custo_iterativo_final:.2f})\")\n",
        "\n",
        "# 2. Demonstração da Política Ótima (Para validação do modelo)\n",
        "print(\"\\n--- 4. Política Ótima de Reposição (Caminho Solução) ---\")\n",
        "print(\"Dia | Estoque Inicial | Consumo | Decisão (Pedido) | Estoque Final\")\n",
        "\n",
        "estoque_atual = ESTOQUE_INICIAL_GLOBAL\n",
        "custo_total_politica = 0\n",
        "\n",
        "for t in range(T):\n",
        "    # A decisão é lida da tabela de política gerada pela versão iterativa\n",
        "    decisao_otima = Politica_Table[t, estoque_atual]\n",
        "    consumo_do_dia = CONSUMO[t]\n",
        "\n",
        "    custo_imediato, estoque_final = calcular_custo_e_transicao(\n",
        "        estoque_atual, decisao_otima, consumo_do_dia\n",
        "    )\n",
        "\n",
        "    custo_total_politica += custo_imediato\n",
        "\n",
        "    print(f\"{t+1:<3} | {estoque_atual:<15} | {consumo_do_dia:<7} | {decisao_otima:<16} | {estoque_final}\")\n",
        "\n",
        "    estoque_atual = estoque_final\n",
        "\n",
        "print(f\"\\nCusto Total Reconstruído (deve ser igual ao mínimo): R$ {custo_total_politica:.2f}\")"
      ],
      "metadata": {
        "colab": {
          "base_uri": "https://localhost:8080/"
        },
        "id": "SiF9rv2cQGAt",
        "outputId": "82013e48-2205-43bb-b394-b6660107ddb1"
      },
      "execution_count": 5,
      "outputs": [
        {
          "output_type": "stream",
          "name": "stdout",
          "text": [
            "\n",
            "--- 3. Verificação de Equivalência ---\n",
            "✅ Sucesso: Ambas as versões (R$ 556.00) são equivalentes.\n",
            "\n",
            "--- 4. Política Ótima de Reposição (Caminho Solução) ---\n",
            "Dia | Estoque Inicial | Consumo | Decisão (Pedido) | Estoque Final\n",
            "1   | 5               | 5       | 0                | 0\n",
            "2   | 0               | 8       | 11               | 3\n",
            "3   | 3               | 3       | 0                | 0\n",
            "4   | 0               | 10      | 14               | 4\n",
            "5   | 4               | 4       | 0                | 0\n",
            "6   | 0               | 7       | 13               | 6\n",
            "7   | 6               | 6       | 0                | 0\n",
            "\n",
            "Custo Total Reconstruído (deve ser igual ao mínimo): R$ 556.00\n"
          ]
        }
      ]
    },
    {
      "cell_type": "markdown",
      "source": [
        "6. Relatório e Explicação do Algoritmo (Documentação)"
      ],
      "metadata": {
        "id": "pUkxRoKNR2H9"
      }
    }
  ]
}